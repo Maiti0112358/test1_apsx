{
    "nbformat_minor": 1, 
    "cells": [
        {
            "outputs": [
                {
                    "output_type": "execute_result", 
                    "metadata": {}, 
                    "data": {
                        "text/plain": "<pyspark.context.SparkContext at 0x7f7948dd8e10>"
                    }, 
                    "execution_count": 1
                }
            ], 
            "cell_type": "code", 
            "metadata": {}, 
            "execution_count": 1, 
            "source": "sc"
        }, 
        {
            "outputs": [], 
            "cell_type": "code", 
            "metadata": {
                "collapsed": true
            }, 
            "execution_count": null, 
            "source": ""
        }
    ], 
    "metadata": {
        "kernelspec": {
            "display_name": "Python 2 with Spark 2.0", 
            "name": "python2-spark20", 
            "language": "python"
        }, 
        "language_info": {
            "mimetype": "text/x-python", 
            "codemirror_mode": {
                "name": "ipython", 
                "version": 2
            }, 
            "version": "2.7.11", 
            "pygments_lexer": "ipython2", 
            "nbconvert_exporter": "python", 
            "name": "python", 
            "file_extension": ".py"
        }
    }, 
    "nbformat": 4
}